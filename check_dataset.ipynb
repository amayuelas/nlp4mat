{
 "cells": [
  {
   "cell_type": "code",
   "execution_count": 2,
   "metadata": {},
   "outputs": [
    {
     "name": "stderr",
     "output_type": "stream",
     "text": [
      "/data2/aamayuelasfernandez/miniconda3/envs/materials/lib/python3.12/site-packages/tqdm/auto.py:21: TqdmWarning: IProgress not found. Please update jupyter and ipywidgets. See https://ipywidgets.readthedocs.io/en/stable/user_install.html\n",
      "  from .autonotebook import tqdm as notebook_tqdm\n",
      "Generating train split: 100%|██████████| 16026/16026 [00:03<00:00, 5120.56 examples/s]\n",
      "Generating test_standard_impact split: 100%|██████████| 1472/1472 [00:00<00:00, 4187.24 examples/s]\n",
      "Generating test_high_impact split: 100%|██████████| 169/169 [00:00<00:00, 6156.42 examples/s]\n"
     ]
    }
   ],
   "source": [
    "from datasets import load_dataset\n",
    "\n",
    "# Login using e.g. `huggingface-cli login` to access this dataset\n",
    "ds = load_dataset(\"iknow-lab/open-materials-guide-2024\")"
   ]
  },
  {
   "cell_type": "code",
   "execution_count": 21,
   "metadata": {},
   "outputs": [
    {
     "name": "stderr",
     "output_type": "stream",
     "text": [
      "Filter: 100%|██████████| 16026/16026 [00:20<00:00, 785.86 examples/s]\n"
     ]
    }
   ],
   "source": [
    "subset = ds['train'].filter(lambda x: 'solid state' in x['Synthesis_Process'].lower())"
   ]
  },
  {
   "cell_type": "code",
   "execution_count": 60,
   "metadata": {},
   "outputs": [],
   "source": [
    "sample = subset[8]"
   ]
  },
  {
   "cell_type": "code",
   "execution_count": 61,
   "metadata": {},
   "outputs": [
    {
     "data": {
      "text/plain": [
       "'Solid-State (conventional solid state reaction)'"
      ]
     },
     "execution_count": 61,
     "metadata": {},
     "output_type": "execute_result"
    }
   ],
   "source": [
    "sample['Synthesis_Process']"
   ]
  },
  {
   "cell_type": "code",
   "execution_count": 62,
   "metadata": {},
   "outputs": [
    {
     "name": "stdout",
     "output_type": "stream",
     "text": [
      "Cobalt-doped forsterite pigment\n"
     ]
    }
   ],
   "source": [
    "print(sample['Material_Name'])\n"
   ]
  },
  {
   "cell_type": "code",
   "execution_count": 63,
   "metadata": {},
   "outputs": [
    {
     "name": "stdout",
     "output_type": "stream",
     "text": [
      "## Key Contributions\n",
      "\n",
      "- **Novel materials or compounds:** Co-doped forsterite ceramic pigments using mirror waste.\n",
      "- **Unique synthesis methods:** Use of conventional solid state reaction and reduction of calcination temperature using mirror waste.\n",
      "- **Specific applications or domains:** Ceramic pigments for coloring applications.\n"
     ]
    }
   ],
   "source": [
    "print(sample['contribution'])"
   ]
  },
  {
   "cell_type": "code",
   "execution_count": 64,
   "metadata": {},
   "outputs": [
    {
     "name": "stdout",
     "output_type": "stream",
     "text": [
      "## Materials\n",
      "- **Precursor Materials:**\n",
      "  - Mirror waste (as the SiO2 source)\n",
      "  - Magnesium oxide (MgO), stoichiometrically mixed\n",
      "  - Cobalt oxide (Co2O3), stoichiometrically mixed\n",
      "  - **Mirror Waste Oxide Composition:**\n",
      "    - SiO2: 71.11 mol%\n",
      "    - Na2O: 12.68 mol%\n",
      "    - CaO: 11.38 mol%\n",
      "    - MgO: 3.52 mol%\n",
      "    - Etc.: 1.31 mol%\n",
      "\n",
      "- **Solvents and Reagents:**\n",
      "  - Ethanol (used for wet ball-milling the precursor mixture)\n",
      "\n",
      "## Synthesis Equipment\n",
      "\n",
      "- **Ball Milling:**\n",
      "  - Used for 24 hours for preparing the precursor mixture.\n",
      "- **Calcination:**\n",
      "  - Alumina crucible used between 800 and 1200°C for 2 hours.\n",
      "- **X-ray Diffraction:**\n",
      "  - LabX XRD-6100 Diffractometer (Shimadzu, Kyoto, Japan)\n",
      "  - Cu-Kα radiation at λ = 1.5406 Å\n",
      "\n",
      "## Synthesis Procedure\n",
      "\n",
      "1. Stoichiometrically mix reagent-grade SiO2 (mirror waste as SiO2 source), MgO, and Co2O3.\n",
      "2. Wet ball mill the precursor mixture with ethanol for 24 hours.\n",
      "3. Calcine the mixture in an alumina crucible at temperatures between 800 and 1200°C for 2 hours.\n",
      "4. Ground the calcined powders in a mortar for structural characterization.\n",
      "\n",
      "## Characterization Methods and Equipment\n",
      "\n",
      "- **X-ray Diffraction (XRD):** Used for phase evolution study, with LabX XRD-6100 Diffractometer.\n",
      "- **Fourier-transform infrared spectroscopy (FTIR):** Studied as supplementary structural characterization using Vertex70 (Bruker, Billerica, MA, USA).\n",
      "- **UV-Vis Spectroscopy:** Investigated for optical properties using UV-1800 (Shimadzu).\n",
      "- **X-ray photoelectron spectroscopy (XPS):** Used to evaluate Co ion behavior.\n",
      "- **Scanning Electron Microscope (SEM) and Energy Dispersive Spectroscopy (EDS):** Analyzed morphological and elemental distribution with TM3030 (Hitachi, Tokyo, Japan).\n",
      "\n",
      "## Product Characteristics\n",
      "\n",
      "- Final product is Co-doped forsterite pigment\n",
      "- **Yield and Purity:** Not specified\n",
      "- **Color Characteristics:** Color located in the red-blue quadrant for Co-doped pigment, chromatic changes with varying Co content.\n",
      "- **Morphological Characteristics:** Irregular particle shape, non-uniform particle size due to mirror waste.\n"
     ]
    }
   ],
   "source": [
    "print(sample['recipe'])"
   ]
  },
  {
   "cell_type": "code",
   "execution_count": 65,
   "metadata": {},
   "outputs": [
    {
     "name": "stdout",
     "output_type": "stream",
     "text": [
      "https://www.mdpi.com/1996-1944/11/7/1210/pdf?version=1531972019\n"
     ]
    }
   ],
   "source": [
    "print(sample['pdf_url'])"
   ]
  },
  {
   "cell_type": "code",
   "execution_count": null,
   "metadata": {},
   "outputs": [],
   "source": []
  }
 ],
 "metadata": {
  "kernelspec": {
   "display_name": "materials",
   "language": "python",
   "name": "python3"
  },
  "language_info": {
   "codemirror_mode": {
    "name": "ipython",
    "version": 3
   },
   "file_extension": ".py",
   "mimetype": "text/x-python",
   "name": "python",
   "nbconvert_exporter": "python",
   "pygments_lexer": "ipython3",
   "version": "3.12.9"
  }
 },
 "nbformat": 4,
 "nbformat_minor": 2
}
